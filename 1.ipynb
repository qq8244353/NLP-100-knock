{
 "cells": [
  {
   "cell_type": "code",
   "execution_count": 2,
   "id": "edc19f0a-a93e-4516-934d-e8fb402bf062",
   "metadata": {},
   "outputs": [
    {
     "name": "stdout",
     "output_type": "stream",
     "text": [
      "desserts\n"
     ]
    }
   ],
   "source": [
    "## 00\n",
    "s = \"stressed\"\n",
    "print(s[::-1])"
   ]
  },
  {
   "cell_type": "code",
   "execution_count": 3,
   "id": "12af394d-3b66-45a5-b8dc-7953a9330c1b",
   "metadata": {},
   "outputs": [
    {
     "name": "stdout",
     "output_type": "stream",
     "text": [
      "パトカー\n"
     ]
    }
   ],
   "source": [
    "## 01\n",
    "s = \"パタトクカシーー\"\n",
    "print(s[::2])"
   ]
  },
  {
   "cell_type": "code",
   "execution_count": 4,
   "id": "573722e1-958a-4868-a0fe-32db2cb8b97a",
   "metadata": {},
   "outputs": [
    {
     "name": "stdout",
     "output_type": "stream",
     "text": [
      "パタタクトシクー\n"
     ]
    }
   ],
   "source": [
    "## 02\n",
    "s1 = \"パトカー\"\n",
    "s2 = \"タクシー\"\n",
    "s3 = \"\"\n",
    "for i in range(4):\n",
    "    s3 += s[i] + s2[i]\n",
    "print(s3)"
   ]
  },
  {
   "cell_type": "code",
   "execution_count": 5,
   "id": "d0074529-431c-4b18-90c9-fb2ec9bc7abb",
   "metadata": {},
   "outputs": [
    {
     "name": "stdout",
     "output_type": "stream",
     "text": [
      "[3, 1, 4, 1, 5, 9, 2, 6, 5, 3, 5, 8, 9, 7, 9]\n"
     ]
    }
   ],
   "source": [
    "## 03\n",
    "s = \"Now I need a drink, alcoholic of course, after the heavy lectures involving quantum mechanics.\"\n",
    "l = s.split(' ')\n",
    "l2 = list(map(lambda x: len(x.strip(\",\").strip(\".\")), l))\n",
    "print(l2)"
   ]
  },
  {
   "cell_type": "code",
   "execution_count": 6,
   "id": "731e18dc-aa50-4bd9-a8ca-3e5a966235f0",
   "metadata": {},
   "outputs": [
    {
     "name": "stdout",
     "output_type": "stream",
     "text": [
      "{'H': 1, 'He': 2, 'Li': 3, 'Be': 4, 'B': 5, 'C': 6, 'N': 7, 'O': 8, 'F': 9, 'Ne': 10, 'Na': 11, 'Mi': 12, 'Al': 13, 'Si': 14, 'P': 15, 'S': 16, 'Cl': 17, 'Ar': 18, 'K': 19, 'Ca': 20}\n"
     ]
    }
   ],
   "source": [
    "## 04\n",
    "s = \"Hi He Lied Because Boron Could Not Oxidize Fluorine. New Nations Might Also Sign Peace Security Clause. Arthur King Can.\"\n",
    "l = [1, 5, 6, 7, 8, 9, 15, 16, 19]\n",
    "word_list = list(map(lambda x: x.strip(\".\"), s.split(' ')))\n",
    "mp = {}\n",
    "for i in range(len(word_list)):\n",
    "    if i + 1 in l:\n",
    "        mp[word_list[i][:1]] = i + 1\n",
    "    else:\n",
    "        mp[word_list[i][:2]] = i + 1\n",
    "print(mp)"
   ]
  },
  {
   "cell_type": "code",
   "execution_count": 7,
   "id": "faebb3c7-ba3b-4a21-86cc-1d3ee3b1e910",
   "metadata": {},
   "outputs": [
    {
     "name": "stdout",
     "output_type": "stream",
     "text": [
      "[['I', 'am'], ['am', 'an'], ['an', 'NLPer']]\n",
      "[['I', 'am', 'an'], ['am', 'an', 'NLPer']]\n"
     ]
    }
   ],
   "source": [
    "## 05\n",
    "def n_gram(n, l):\n",
    "    n = min(n, len(l))\n",
    "    ret = []\n",
    "    for i in range(len(l) - n + 1):\n",
    "        tmp = []\n",
    "        for j in range(n):\n",
    "            tmp.append(l[i + j])\n",
    "        ret.append(tmp)\n",
    "    return ret\n",
    "\n",
    "s = \"I am an NLPer\"\n",
    "l = s.split(\" \")\n",
    "print(n_gram(2, l))\n",
    "print(n_gram(3, l))"
   ]
  },
  {
   "cell_type": "code",
   "execution_count": 8,
   "id": "f1010827-aabb-439f-bb7f-4c9ca0dd4421",
   "metadata": {},
   "outputs": [
    {
     "name": "stdout",
     "output_type": "stream",
     "text": [
      "X:  [['p', 'a'], ['a', 'r'], ['r', 'a'], ['a', 'p'], ['a', 'd'], ['d', 'i'], ['i', 's'], ['s', 'e']]\n",
      "Y:  [['p', 'a'], ['a', 'r'], ['r', 'a'], ['a', 'g'], ['g', 'r'], ['a', 'p'], ['p', 'h']]\n",
      "X ^ Y: [['a', 'd'], ['d', 'i'], ['i', 's'], ['s', 'e'], ['a', 'g'], ['g', 'r'], ['p', 'h']]\n",
      "X | Y: [['p', 'a'], ['a', 'r'], ['r', 'a'], ['a', 'p'], ['a', 'd'], ['d', 'i'], ['i', 's'], ['s', 'e'], ['a', 'g'], ['g', 'r'], ['p', 'h']]\n",
      "X - Y: [['a', 'd'], ['d', 'i'], ['i', 's'], ['s', 'e']]\n",
      "X include \"se\": True\n",
      "Y include \"se\": False\n"
     ]
    }
   ],
   "source": [
    "## 06\n",
    "def unique(l):\n",
    "    ret = []\n",
    "    for i in range(len(l)):\n",
    "        exist = False\n",
    "        for j in range(i):\n",
    "            if l[j] == l[i]:\n",
    "                exist = True\n",
    "                break\n",
    "        if not exist:\n",
    "            ret.append(l[i])\n",
    "    return ret\n",
    "\n",
    "def intersect(l, r):\n",
    "    okl = [ True for i in range(len(l)) ]\n",
    "    okr = [ True for i in range(len(r)) ]\n",
    "    for i in range(len(l)):\n",
    "        for j in range(len(r)):\n",
    "            if l[i] == r[j]:\n",
    "                okl[i] = False\n",
    "                okr[j] = False\n",
    "    ret = []\n",
    "    for i in range(len(l)):\n",
    "        if okl[i]:\n",
    "            ret.append(l[i])\n",
    "    for i in range(len(r)):\n",
    "        if okr[i]:\n",
    "            ret.append(r[i])\n",
    "    return ret\n",
    "    \n",
    "def union(l, r):\n",
    "    ret = []\n",
    "    for i in range(len(l)):\n",
    "        ret.append(l[i])\n",
    "    for i in range(len(r)):\n",
    "        ret.append(r[i])\n",
    "    return unique(ret)\n",
    "\n",
    "def subtract(l, r):\n",
    "    ret = []\n",
    "    for i in range(len(l)):\n",
    "        exist = False\n",
    "        for j in range(len(r)):\n",
    "            if l[i] == r[j]:\n",
    "                exist = True\n",
    "\n",
    "        if not exist:\n",
    "            ret.append(l[i])\n",
    "    return ret\n",
    "\n",
    "def se_exist(lst):\n",
    "    for i in range(len(lst)):\n",
    "        if lst[i] == [ \"s\", \"e\" ]:\n",
    "            return True\n",
    "    return False\n",
    "    \n",
    "s = \"paraparaparadise\"\n",
    "s2 = \"paragraph\"\n",
    "X = unique(n_gram(2, s))\n",
    "Y = unique(n_gram(2, s2))\n",
    "\n",
    "print(\"X: \", X)\n",
    "print(\"Y: \", Y)\n",
    "print(\"X ^ Y:\", intersect(X, Y))\n",
    "print(\"X | Y:\", union(X, Y))\n",
    "print(\"X - Y:\", subtract(X, Y))\n",
    "print(\"X include \\\"se\\\":\", se_exist(X))\n",
    "print(\"Y include \\\"se\\\":\", se_exist(Y))"
   ]
  },
  {
   "cell_type": "code",
   "execution_count": 9,
   "id": "2de8ef51-3d96-402d-adcf-f3efb09bb823",
   "metadata": {},
   "outputs": [
    {
     "name": "stdout",
     "output_type": "stream",
     "text": [
      "12時の気温は22.4\n"
     ]
    }
   ],
   "source": [
    "## 07\n",
    "def generate_str(x, y, z):\n",
    "    return f'{x}時の{y}は{z}'\n",
    "\n",
    "print(generate_str(12, \"気温\", 22.4))"
   ]
  },
  {
   "cell_type": "code",
   "execution_count": 3,
   "id": "dbfcfe20-7cf0-4668-a0de-352e5c95f46e",
   "metadata": {},
   "outputs": [
    {
     "name": "stdout",
     "output_type": "stream",
     "text": [
      "404 mlg ulfmw\n"
     ]
    }
   ],
   "source": [
    "## 08\n",
    "def cipher(s):\n",
    "    l = list(s)\n",
    "    for i in range(len(l)):\n",
    "        k = ord(l[i]) - ord('a')\n",
    "        if 0 <= k and k < 26:\n",
    "            l[i] = chr(219 - ord(l[i]))\n",
    "    return ''.join(l)\n",
    "\n",
    "s = \"404 not found\"\n",
    "print(cipher(s))"
   ]
  },
  {
   "cell_type": "code",
   "execution_count": 38,
   "id": "2b5f9d20-f065-4bf6-8d64-f206d2e2aef9",
   "metadata": {},
   "outputs": [
    {
     "name": "stdout",
     "output_type": "stream",
     "text": [
      "I clu’ndot belevie that I cloud alacutly ustanerndd what I was rndiaeg : the pneeamonhl peowr of the human midn.\n"
     ]
    }
   ],
   "source": [
    "## 09\n",
    "import random\n",
    "\n",
    "def f(s):\n",
    "    l = s.split(\" \")\n",
    "    ret = []\n",
    "    for i in range(len(l)):\n",
    "        if len(l[i]) < 3:\n",
    "            ret.append(l[i])\n",
    "        else:\n",
    "            w = list(l[i])\n",
    "            wm = list(w[1:-1])\n",
    "            random.shuffle(wm)\n",
    "            ret.append(''.join(w[:1] + wm + w[-1:]))\n",
    "    return ' '.join(ret)\n",
    "\n",
    "s = \"I couldn’t believe that I could actually understand what I was reading : the phenomenal power of the human mind.\"\n",
    "print(f(s))"
   ]
  },
  {
   "cell_type": "code",
   "execution_count": null,
   "id": "372042ab-7ee1-435a-8a68-5cf449595e79",
   "metadata": {},
   "outputs": [],
   "source": [
    "# 1h 30m"
   ]
  }
 ],
 "metadata": {
  "kernelspec": {
   "display_name": "Python 3 (ipykernel)",
   "language": "python",
   "name": "python3"
  },
  "language_info": {
   "codemirror_mode": {
    "name": "ipython",
    "version": 3
   },
   "file_extension": ".py",
   "mimetype": "text/x-python",
   "name": "python",
   "nbconvert_exporter": "python",
   "pygments_lexer": "ipython3",
   "version": "3.11.7"
  }
 },
 "nbformat": 4,
 "nbformat_minor": 5
}
