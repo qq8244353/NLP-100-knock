{
 "cells": [
  {
   "cell_type": "code",
   "execution_count": 1,
   "id": "a53bc467-7488-475d-b27b-62800fe933b2",
   "metadata": {},
   "outputs": [
    {
     "name": "stdout",
     "output_type": "stream",
     "text": [
      "2780\n",
      "    2780 popular-names.txt\n"
     ]
    },
    {
     "data": {
      "text/plain": [
       "CompletedProcess(args=['wc', '-l', 'popular-names.txt'], returncode=0)"
      ]
     },
     "execution_count": 1,
     "metadata": {},
     "output_type": "execute_result"
    }
   ],
   "source": [
    "## 10\n",
    "import subprocess, re\n",
    "\n",
    "with open('popular-names.txt', 'r') as f:\n",
    "    print(sum(1 for _ in f))\n",
    "\n",
    "subprocess.run([\"wc\", \"-l\", \"popular-names.txt\"])"
   ]
  },
  {
   "cell_type": "code",
   "execution_count": 2,
   "id": "fa43e354-20e1-4155-876b-30dcca74a923",
   "metadata": {},
   "outputs": [
    {
     "name": "stdout",
     "output_type": "stream",
     "text": [
      "## 20\n"
     ]
    },
    {
     "data": {
      "text/plain": [
       "CompletedProcess(args=['diff', 'tmp/replaced-with-tab-shell.txt', 'tmp/replaced-with-tab-python.txt'], returncode=0)"
      ]
     },
     "execution_count": 2,
     "metadata": {},
     "output_type": "execute_result"
    }
   ],
   "source": [
    "## 11\n",
    "\n",
    "with open('popular-names.txt', 'r') as fr:\n",
    "    with open('tmp/replaced-with-tab-python.txt', 'w') as fw:\n",
    "        for l in fr:\n",
    "            fw.write(re.sub(r'\\t', ' ', l))\n",
    "\n",
    "subprocess.run([\"bash\", \"1-1.sh\"]) \n",
    "\n",
    "subprocess.run([\"diff\", \"tmp/replaced-with-tab-shell.txt\", \"tmp/replaced-with-tab-python.txt\"]) "
   ]
  },
  {
   "cell_type": "code",
   "execution_count": 3,
   "id": "38940480-712f-41c9-ad38-08364656f975",
   "metadata": {},
   "outputs": [
    {
     "data": {
      "text/plain": [
       "CompletedProcess(args=['diff', 'tmp/col2-python.txt', 'tmp/col2-shell.txt'], returncode=0)"
      ]
     },
     "execution_count": 3,
     "metadata": {},
     "output_type": "execute_result"
    }
   ],
   "source": [
    "# 12\n",
    "data = []\n",
    "pop = 'popular-names.txt'\n",
    "col1_python = 'tmp/col1-python.txt'\n",
    "col2_python = 'tmp/col2-python.txt'\n",
    "col1_shell = 'tmp/col1-shell.txt'\n",
    "col2_shell = 'tmp/col2-shell.txt'\n",
    "with open(pop, 'r') as fr:\n",
    "    for l in fr:\n",
    "        data.append(l)\n",
    "\n",
    "with open(col1_python, 'w') as col1:\n",
    "    for l in data:\n",
    "        v = l.split('\\t')\n",
    "        col1.write(f'{v[0]}\\n')\n",
    "with open(col2_python, 'w') as col2:\n",
    "    for l in data:\n",
    "        v = l.split('\\t')\n",
    "        col2.write(f'{v[1]}\\n')\n",
    "\n",
    "subprocess.run([\"bash\", \"1-2.sh\"]) \n",
    "\n",
    "subprocess.run([\"diff\", col1_python, col1_shell]) \n",
    "\n",
    "subprocess.run([\"diff\", col2_python, col2_shell]) "
   ]
  },
  {
   "cell_type": "code",
   "execution_count": 4,
   "id": "a474d262-a129-416c-b745-c796bf65587a",
   "metadata": {},
   "outputs": [
    {
     "data": {
      "text/plain": [
       "CompletedProcess(args=['diff', 'tmp/merged-python.txt', 'tmp/merged-shell.txt'], returncode=0)"
      ]
     },
     "execution_count": 4,
     "metadata": {},
     "output_type": "execute_result"
    }
   ],
   "source": [
    "# 13\n",
    "# execute 12 first\n",
    "data = []\n",
    "merged_python = 'tmp/merged-python.txt'\n",
    "merged_shell = 'tmp/merged-shell.txt'\n",
    "col1_python = 'tmp/col1-python.txt'\n",
    "col2_python = 'tmp/col2-python.txt'\n",
    "with open(col1_python, 'r') as col1:\n",
    "    for l in col1:\n",
    "        data.append(l[:-1])\n",
    "\n",
    "with open(col2_python, 'r') as col2:\n",
    "    for i, l in enumerate(col2):\n",
    "        data[i] = f'{data[i]}\\t{l}'\n",
    "\n",
    "with open(merged_python, 'w') as mer:\n",
    "    for l in data:\n",
    "        mer.write(l)\n",
    "\n",
    "subprocess.run([\"bash\", \"1-3.sh\"])\n",
    "\n",
    "subprocess.run([\"diff\", merged_python, merged_shell])"
   ]
  },
  {
   "cell_type": "code",
   "execution_count": 5,
   "id": "282f9177-f677-4a2f-80c1-fac1d4a445f6",
   "metadata": {},
   "outputs": [
    {
     "name": "stdout",
     "output_type": "stream",
     "text": [
      "Mary\tF\t7065\t1880\n",
      "Anna\tF\t2604\t1880\n",
      "Emma\tF\t2003\t1880\n",
      "Elizabeth\tF\t1939\t1880\n",
      "Minnie\tF\t1746\t1880\n",
      "\n",
      "Mary\tF\t7065\t1880\n",
      "Anna\tF\t2604\t1880\n",
      "Emma\tF\t2003\t1880\n",
      "Elizabeth\tF\t1939\t1880\n",
      "Minnie\tF\t1746\t1880\n"
     ]
    },
    {
     "data": {
      "text/plain": [
       "CompletedProcess(args=['head', '-n', '5', 'popular-names.txt'], returncode=0)"
      ]
     },
     "execution_count": 5,
     "metadata": {},
     "output_type": "execute_result"
    }
   ],
   "source": [
    "# 14\n",
    "# import sys\n",
    "#\n",
    "# filename = sys.argv[1]\n",
    "# n = int(sys.argv[2])\n",
    "# with open('popular-names.txt', 'r') as pop:\n",
    "#     lst = pop.readlines()\n",
    "#     for i in range(n):\n",
    "#         print(lst[i], end=\"\")\n",
    "\n",
    "subprocess.run([\"python3\", \"1-4.py\", \"popular-names.txt\", \"5\"])\n",
    "\n",
    "print()\n",
    "\n",
    "subprocess.run([\"head\", \"-n\", \"5\", \"popular-names.txt\"])"
   ]
  },
  {
   "cell_type": "code",
   "execution_count": 6,
   "id": "2be04877-89b0-4c90-9129-5807d3a021c0",
   "metadata": {},
   "outputs": [
    {
     "name": "stdout",
     "output_type": "stream",
     "text": [
      "Benjamin\tM\t13381\t2018\n",
      "Elijah\tM\t12886\t2018\n",
      "Lucas\tM\t12585\t2018\n",
      "Mason\tM\t12435\t2018\n",
      "Logan\tM\t12352\t2018\n",
      "\n",
      "Benjamin\tM\t13381\t2018\n",
      "Elijah\tM\t12886\t2018\n",
      "Lucas\tM\t12585\t2018\n",
      "Mason\tM\t12435\t2018\n",
      "Logan\tM\t12352\t2018\n"
     ]
    },
    {
     "data": {
      "text/plain": [
       "CompletedProcess(args=['tail', '-n', '5', 'popular-names.txt'], returncode=0)"
      ]
     },
     "execution_count": 6,
     "metadata": {},
     "output_type": "execute_result"
    }
   ],
   "source": [
    "# 15\n",
    "# import sys\n",
    "#\n",
    "# filename = sys.argv[1]\n",
    "# n = int(sys.argv[2])\n",
    "# with open('popular-names.txt', 'r') as pop:\n",
    "#     lst = pop.readlines()\n",
    "#     for i in range(max(n - 5, 0), n):\n",
    "#         print(lst[i], end=\"\")\n",
    "\n",
    "subprocess.run([\"python3\", \"1-5.py\", \"popular-names.txt\", \"5\"])\n",
    "\n",
    "print()\n",
    "\n",
    "subprocess.run([\"tail\", \"-n\", \"5\", \"popular-names.txt\"])"
   ]
  },
  {
   "cell_type": "code",
   "execution_count": 7,
   "id": "20362b93-9d62-4961-9545-627df374a8be",
   "metadata": {},
   "outputs": [],
   "source": [
    "# 16\n",
    "n = 5\n",
    "pop = 'popular-names.txt'\n",
    "pref_python = 'tmp/split-python-'\n",
    "pref_shell = 'tmp/split-shell-'\n",
    "with open(pop, 'r') as p:\n",
    "    lst = p.readlines()\n",
    "    m = len(lst)\n",
    "    d = (m + n - 1) // n\n",
    "    for i in range(n):\n",
    "        with open(f'{pref_python}{i:0>2}', 'w') as now:\n",
    "            for j in range(d * i, min(d * i + d, m)):\n",
    "                now.write(lst[j])\n",
    "        \n",
    "subprocess.run([\"bash\", \"1-6.sh\", pop, f'{n}', pref_shell])\n",
    "\n",
    "for i in range(n):\n",
    "    subprocess.run([\"diff\", f'{pref_python}{i:0>2}', f'{pref_shell}{i:0>2}'])"
   ]
  },
  {
   "cell_type": "code",
   "execution_count": 8,
   "id": "482e68e4-9c6e-4415-9f63-a525d370b9a5",
   "metadata": {},
   "outputs": [
    {
     "name": "stdout",
     "output_type": "stream",
     "text": [
      "136\n",
      "     136\n"
     ]
    },
    {
     "data": {
      "text/plain": [
       "CompletedProcess(args=['bash', '1-7.sh'], returncode=0)"
      ]
     },
     "execution_count": 8,
     "metadata": {},
     "output_type": "execute_result"
    }
   ],
   "source": [
    "# 17\n",
    "pop = 'popular-names.txt'\n",
    "s = set()\n",
    "lst = []\n",
    "with open(pop, 'r') as p:\n",
    "    lst = p.readlines()\n",
    "\n",
    "for i in range(len(lst)):\n",
    "    v = lst[i].split('\\t')\n",
    "    s.add(v[0])\n",
    "\n",
    "print(len(s))\n",
    "\n",
    "subprocess.run(['bash', '1-7.sh'])"
   ]
  },
  {
   "cell_type": "code",
   "execution_count": 9,
   "id": "34c62cc3-2a87-4eef-9d37-8f3524126b07",
   "metadata": {},
   "outputs": [
    {
     "data": {
      "text/plain": [
       "CompletedProcess(args=['diff', 'tmp/sorted-python.txt', 'tmp/sorted-shell.txt'], returncode=0)"
      ]
     },
     "execution_count": 9,
     "metadata": {},
     "output_type": "execute_result"
    }
   ],
   "source": [
    "# 18\n",
    "pop = 'popular-names.txt'\n",
    "sorted_python = 'tmp/sorted-python.txt'\n",
    "sorted_shell = 'tmp/sorted-shell.txt'\n",
    "lst = []\n",
    "with open(pop, 'r') as p:\n",
    "    tmp = p.readlines()\n",
    "    for t in tmp:\n",
    "        lst.append(t.split('\\t'))\n",
    "\n",
    "lst = sorted(lst, key=lambda e: int(e[2]))\n",
    "\n",
    "with open(sorted_python, 'w') as f:\n",
    "    for l in lst:\n",
    "        f.write('\\t'.join(l))\n",
    "\n",
    "subprocess.run(['bash', '1-8.sh'])\n",
    "\n",
    "subprocess.run(['diff', sorted_python, sorted_shell])"
   ]
  },
  {
   "cell_type": "code",
   "execution_count": 10,
   "id": "1981710d-9664-4db5-ae9d-9581f2e60013",
   "metadata": {},
   "outputs": [
    {
     "data": {
      "text/plain": [
       "CompletedProcess(args=['diff', 'tmp/sorted-python-2.txt', 'tmp/sorted-shell-2.txt'], returncode=0)"
      ]
     },
     "execution_count": 10,
     "metadata": {},
     "output_type": "execute_result"
    }
   ],
   "source": [
    "# 19\n",
    "from collections import defaultdict\n",
    "\n",
    "pop = 'popular-names.txt'\n",
    "sorted_python = 'tmp/sorted-python-2.txt'\n",
    "sorted_shell = 'tmp/sorted-shell-2.txt'\n",
    "lst = []\n",
    "\n",
    "with open(pop, 'r') as p:\n",
    "    tmp = p.readlines()\n",
    "    for t in tmp:\n",
    "        lst.append(t.split('\\t')[0])\n",
    "\n",
    "d = defaultdict(int)\n",
    "for e in lst:\n",
    "    d[e] += 1\n",
    "\n",
    "lst = sorted(set(lst), key=lambda e: f'{int(d[e]):0>10}{e}')\n",
    "\n",
    "\n",
    "with open(sorted_python, 'w') as f:\n",
    "    for e in lst:\n",
    "        f.write(f'{e}\\n')\n",
    "\n",
    "subprocess.run([\"bash\", \"1-9.sh\"])\n",
    "\n",
    "subprocess.run([\"diff\", sorted_python, sorted_shell])"
   ]
  },
  {
   "cell_type": "code",
   "execution_count": null,
   "id": "818effce-a777-4896-9a86-365a4331841d",
   "metadata": {},
   "outputs": [],
   "source": [
    "# 時間: たくさん"
   ]
  }
 ],
 "metadata": {
  "kernelspec": {
   "display_name": "Python 3 (ipykernel)",
   "language": "python",
   "name": "python3"
  },
  "language_info": {
   "codemirror_mode": {
    "name": "ipython",
    "version": 3
   },
   "file_extension": ".py",
   "mimetype": "text/x-python",
   "name": "python",
   "nbconvert_exporter": "python",
   "pygments_lexer": "ipython3",
   "version": "3.11.7"
  }
 },
 "nbformat": 4,
 "nbformat_minor": 5
}
